{
 "cells": [
  {
   "cell_type": "code",
   "execution_count": 1,
   "metadata": {},
   "outputs": [],
   "source": [
    "import pandas as pd\n",
    "from sklearn.ensemble import RandomForestRegressor, RandomForestClassifier\n",
    "from IPython.display import display\n",
    "import numpy as np\n",
    "from sklearn import metrics\n",
    "import matplotlib.pyplot as plt \n",
    "from sklearn.metrics import classification_report, roc_auc_score\n",
    "from sklearn.model_selection import train_test_split\n",
    "import xgboost as xgb\n",
    "from xgboost import XGBClassifier\n",
    "from sklearn.ensemble import AdaBoostClassifier\n",
    "import lightgbm as lgb\n"
   ]
  },
  {
   "cell_type": "code",
   "execution_count": 2,
   "metadata": {},
   "outputs": [],
   "source": [
    "#Import data and join files to create training set\n",
    "train = pd.read_csv('X_train.csv')\n",
    "\n",
    "test = pd.read_csv('X_test.csv')"
   ]
  },
  {
   "cell_type": "code",
   "execution_count": 3,
   "metadata": {},
   "outputs": [
    {
     "data": {
      "text/html": [
       "<div>\n",
       "<style scoped>\n",
       "    .dataframe tbody tr th:only-of-type {\n",
       "        vertical-align: middle;\n",
       "    }\n",
       "\n",
       "    .dataframe tbody tr th {\n",
       "        vertical-align: top;\n",
       "    }\n",
       "\n",
       "    .dataframe thead th {\n",
       "        text-align: right;\n",
       "    }\n",
       "</style>\n",
       "<table border=\"1\" class=\"dataframe\">\n",
       "  <thead>\n",
       "    <tr style=\"text-align: right;\">\n",
       "      <th></th>\n",
       "      <th>row_id</th>\n",
       "      <th>series_id</th>\n",
       "      <th>measurement_number</th>\n",
       "      <th>orientation_X</th>\n",
       "      <th>orientation_Y</th>\n",
       "      <th>orientation_Z</th>\n",
       "      <th>orientation_W</th>\n",
       "      <th>angular_velocity_X</th>\n",
       "      <th>angular_velocity_Y</th>\n",
       "      <th>angular_velocity_Z</th>\n",
       "      <th>linear_acceleration_X</th>\n",
       "      <th>linear_acceleration_Y</th>\n",
       "      <th>linear_acceleration_Z</th>\n",
       "    </tr>\n",
       "  </thead>\n",
       "  <tbody>\n",
       "    <tr>\n",
       "      <th>0</th>\n",
       "      <td>0_0</td>\n",
       "      <td>0</td>\n",
       "      <td>0</td>\n",
       "      <td>-0.75853</td>\n",
       "      <td>-0.63435</td>\n",
       "      <td>-0.10488</td>\n",
       "      <td>-0.10597</td>\n",
       "      <td>0.107650</td>\n",
       "      <td>0.017561</td>\n",
       "      <td>0.000767</td>\n",
       "      <td>-0.74857</td>\n",
       "      <td>2.1030</td>\n",
       "      <td>-9.7532</td>\n",
       "    </tr>\n",
       "    <tr>\n",
       "      <th>1</th>\n",
       "      <td>0_1</td>\n",
       "      <td>0</td>\n",
       "      <td>1</td>\n",
       "      <td>-0.75853</td>\n",
       "      <td>-0.63434</td>\n",
       "      <td>-0.10490</td>\n",
       "      <td>-0.10600</td>\n",
       "      <td>0.067851</td>\n",
       "      <td>0.029939</td>\n",
       "      <td>0.003385</td>\n",
       "      <td>0.33995</td>\n",
       "      <td>1.5064</td>\n",
       "      <td>-9.4128</td>\n",
       "    </tr>\n",
       "    <tr>\n",
       "      <th>2</th>\n",
       "      <td>0_2</td>\n",
       "      <td>0</td>\n",
       "      <td>2</td>\n",
       "      <td>-0.75853</td>\n",
       "      <td>-0.63435</td>\n",
       "      <td>-0.10492</td>\n",
       "      <td>-0.10597</td>\n",
       "      <td>0.007275</td>\n",
       "      <td>0.028934</td>\n",
       "      <td>-0.005978</td>\n",
       "      <td>-0.26429</td>\n",
       "      <td>1.5922</td>\n",
       "      <td>-8.7267</td>\n",
       "    </tr>\n",
       "    <tr>\n",
       "      <th>3</th>\n",
       "      <td>0_3</td>\n",
       "      <td>0</td>\n",
       "      <td>3</td>\n",
       "      <td>-0.75852</td>\n",
       "      <td>-0.63436</td>\n",
       "      <td>-0.10495</td>\n",
       "      <td>-0.10597</td>\n",
       "      <td>-0.013053</td>\n",
       "      <td>0.019448</td>\n",
       "      <td>-0.008974</td>\n",
       "      <td>0.42684</td>\n",
       "      <td>1.0993</td>\n",
       "      <td>-10.0960</td>\n",
       "    </tr>\n",
       "    <tr>\n",
       "      <th>4</th>\n",
       "      <td>0_4</td>\n",
       "      <td>0</td>\n",
       "      <td>4</td>\n",
       "      <td>-0.75852</td>\n",
       "      <td>-0.63435</td>\n",
       "      <td>-0.10495</td>\n",
       "      <td>-0.10596</td>\n",
       "      <td>0.005135</td>\n",
       "      <td>0.007652</td>\n",
       "      <td>0.005245</td>\n",
       "      <td>-0.50969</td>\n",
       "      <td>1.4689</td>\n",
       "      <td>-10.4410</td>\n",
       "    </tr>\n",
       "  </tbody>\n",
       "</table>\n",
       "</div>"
      ],
      "text/plain": [
       "  row_id  series_id  measurement_number  orientation_X  orientation_Y  \\\n",
       "0    0_0          0                   0       -0.75853       -0.63435   \n",
       "1    0_1          0                   1       -0.75853       -0.63434   \n",
       "2    0_2          0                   2       -0.75853       -0.63435   \n",
       "3    0_3          0                   3       -0.75852       -0.63436   \n",
       "4    0_4          0                   4       -0.75852       -0.63435   \n",
       "\n",
       "   orientation_Z  orientation_W  angular_velocity_X  angular_velocity_Y  \\\n",
       "0       -0.10488       -0.10597            0.107650            0.017561   \n",
       "1       -0.10490       -0.10600            0.067851            0.029939   \n",
       "2       -0.10492       -0.10597            0.007275            0.028934   \n",
       "3       -0.10495       -0.10597           -0.013053            0.019448   \n",
       "4       -0.10495       -0.10596            0.005135            0.007652   \n",
       "\n",
       "   angular_velocity_Z  linear_acceleration_X  linear_acceleration_Y  \\\n",
       "0            0.000767               -0.74857                 2.1030   \n",
       "1            0.003385                0.33995                 1.5064   \n",
       "2           -0.005978               -0.26429                 1.5922   \n",
       "3           -0.008974                0.42684                 1.0993   \n",
       "4            0.005245               -0.50969                 1.4689   \n",
       "\n",
       "   linear_acceleration_Z  \n",
       "0                -9.7532  \n",
       "1                -9.4128  \n",
       "2                -8.7267  \n",
       "3               -10.0960  \n",
       "4               -10.4410  "
      ]
     },
     "execution_count": 3,
     "metadata": {},
     "output_type": "execute_result"
    }
   ],
   "source": [
    "train.head()"
   ]
  },
  {
   "cell_type": "code",
   "execution_count": 4,
   "metadata": {},
   "outputs": [],
   "source": [
    "def quaternion_to_euler(x, y, z, w):\n",
    "    import math\n",
    "    t0 = +2.0 * (w * x + y * z)\n",
    "    t1 = +1.0 - 2.0 * (x * x + y * y)\n",
    "    X = math.atan2(t0, t1)\n",
    "\n",
    "    t2 = +2.0 * (w * y - z * x)\n",
    "    t2 = +1.0 if t2 > +1.0 else t2\n",
    "    t2 = -1.0 if t2 < -1.0 else t2\n",
    "    Y = math.asin(t2)\n",
    "\n",
    "    t3 = +2.0 * (w * z + x * y)\n",
    "    t4 = +1.0 - 2.0 * (y * y + z * z)\n",
    "    Z = math.atan2(t3, t4)\n",
    "\n",
    "    return X, Y, Z"
   ]
  },
  {
   "cell_type": "markdown",
   "metadata": {},
   "source": [
    "## Feature engineering 1"
   ]
  },
  {
   "cell_type": "markdown",
   "metadata": {},
   "source": [
    "### Train data"
   ]
  },
  {
   "cell_type": "code",
   "execution_count": 5,
   "metadata": {},
   "outputs": [],
   "source": [
    "train['angular_velocity'] = train['angular_velocity_X'] + train['angular_velocity_Y'] + train['angular_velocity_Z']\n",
    "train['linear_acceleration'] = train['linear_acceleration_X'] + train['linear_acceleration_Y'] + train['linear_acceleration_Z']\n",
    "train['velocity_to_acceleration'] = train['angular_velocity'] / train['linear_acceleration']\n",
    "train['angular_velocity_diag'] = (train['angular_velocity_X']**2 + train['angular_velocity_Y']**2 + train['angular_velocity_Z']**2)**(1.0/2.0)\n",
    "train['linear_acceleration_diag'] = (train['linear_acceleration_X']**2 + train['linear_acceleration_Y']**2 + train['linear_acceleration_Z']**2)**(1.0/2.0)\n",
    "train['acc_vs_vel'] = train['linear_acceleration_diag'] / train['angular_velocity_diag'] \n",
    "\n"
   ]
  },
  {
   "cell_type": "code",
   "execution_count": 6,
   "metadata": {},
   "outputs": [],
   "source": [
    "x, y, z, w = train['orientation_X'].tolist(), train['orientation_Y'].tolist(), train['orientation_Z'].tolist(), train['orientation_W'].tolist()\n",
    "nx, ny, nz = [], [], []\n",
    "for i in range(len(x)):\n",
    "    xx, yy, zz = quaternion_to_euler(x[i], y[i], z[i], w[i])\n",
    "    nx.append(xx)\n",
    "    ny.append(yy)\n",
    "    nz.append(zz)\n",
    "    \n",
    "train['euler_x'] = nx\n",
    "train['euler_y'] = ny\n",
    "train['euler_z'] = nz"
   ]
  },
  {
   "cell_type": "code",
   "execution_count": 7,
   "metadata": {},
   "outputs": [],
   "source": [
    "train['total_angle'] = (train['euler_x'] ** 2 + train['euler_y'] ** 2 + train['euler_z'] ** 2) ** 5\n",
    "train['angle_vs_acc'] = train['total_angle'] / train['linear_acceleration_diag']\n",
    "train['angle_vs_vel'] = train['total_angle'] / train['angular_velocity_diag']"
   ]
  },
  {
   "cell_type": "code",
   "execution_count": 8,
   "metadata": {},
   "outputs": [
    {
     "data": {
      "text/plain": [
       "(487680, 25)"
      ]
     },
     "execution_count": 8,
     "metadata": {},
     "output_type": "execute_result"
    }
   ],
   "source": [
    "train.shape"
   ]
  },
  {
   "cell_type": "code",
   "execution_count": 9,
   "metadata": {},
   "outputs": [],
   "source": [
    "train_grouped = pd.DataFrame()\n",
    "for col in train.columns[3:]:\n",
    "        train_grouped[col + '_mean'] = train.groupby(['series_id'])[col].mean()\n",
    "        train_grouped[col + '_std'] = train.groupby(['series_id'])[col].std()\n",
    "        train_grouped[col + '_max'] = train.groupby(['series_id'])[col].max()\n",
    "        train_grouped[col + '_min'] = train.groupby(['series_id'])[col].min()\n",
    "        train_grouped[col + '_max_to_min'] = train_grouped[col + '_max'] / train_grouped[col + '_min']\n",
    "        train_grouped[col + '_quant25'] = train.groupby(['series_id'])[col].quantile(0.25)\n",
    "        train_grouped[col + '_quant75'] = train.groupby(['series_id'])[col].quantile(0.75)\n",
    "        train_grouped[col + '_quant50'] = train.groupby(['series_id'])[col].quantile(0.50)\n",
    "        \n",
    "        train_grouped[col + '_mean_abs_change'] = train.groupby('series_id')[col].apply(lambda x: np.mean(np.abs(np.diff(x))))\n",
    "        train_grouped[col + '_abs_max'] = train.groupby('series_id')[col].apply(lambda x: np.max(np.abs(x)))\n",
    "        train_grouped[col + '_abs_min'] = train.groupby('series_id')[col].apply(lambda x: np.min(np.abs(x)))\n",
    "        train_grouped[col + '_mean_change_of_abs_change'] = train.groupby('series_id')[col].apply(lambda x: np.mean(np.diff(np.abs(np.diff(x)))))"
   ]
  },
  {
   "cell_type": "code",
   "execution_count": 10,
   "metadata": {},
   "outputs": [
    {
     "data": {
      "text/html": [
       "<div>\n",
       "<style scoped>\n",
       "    .dataframe tbody tr th:only-of-type {\n",
       "        vertical-align: middle;\n",
       "    }\n",
       "\n",
       "    .dataframe tbody tr th {\n",
       "        vertical-align: top;\n",
       "    }\n",
       "\n",
       "    .dataframe thead th {\n",
       "        text-align: right;\n",
       "    }\n",
       "</style>\n",
       "<table border=\"1\" class=\"dataframe\">\n",
       "  <thead>\n",
       "    <tr style=\"text-align: right;\">\n",
       "      <th></th>\n",
       "      <th>orientation_X_mean</th>\n",
       "      <th>orientation_X_std</th>\n",
       "      <th>orientation_X_max</th>\n",
       "      <th>orientation_X_min</th>\n",
       "      <th>orientation_X_max_to_min</th>\n",
       "      <th>orientation_X_quant25</th>\n",
       "      <th>orientation_X_quant75</th>\n",
       "      <th>orientation_X_quant50</th>\n",
       "      <th>orientation_X_mean_abs_change</th>\n",
       "      <th>orientation_X_abs_max</th>\n",
       "      <th>...</th>\n",
       "      <th>angle_vs_vel_max</th>\n",
       "      <th>angle_vs_vel_min</th>\n",
       "      <th>angle_vs_vel_max_to_min</th>\n",
       "      <th>angle_vs_vel_quant25</th>\n",
       "      <th>angle_vs_vel_quant75</th>\n",
       "      <th>angle_vs_vel_quant50</th>\n",
       "      <th>angle_vs_vel_mean_abs_change</th>\n",
       "      <th>angle_vs_vel_abs_max</th>\n",
       "      <th>angle_vs_vel_abs_min</th>\n",
       "      <th>angle_vs_vel_mean_change_of_abs_change</th>\n",
       "    </tr>\n",
       "    <tr>\n",
       "      <th>series_id</th>\n",
       "      <th></th>\n",
       "      <th></th>\n",
       "      <th></th>\n",
       "      <th></th>\n",
       "      <th></th>\n",
       "      <th></th>\n",
       "      <th></th>\n",
       "      <th></th>\n",
       "      <th></th>\n",
       "      <th></th>\n",
       "      <th></th>\n",
       "      <th></th>\n",
       "      <th></th>\n",
       "      <th></th>\n",
       "      <th></th>\n",
       "      <th></th>\n",
       "      <th></th>\n",
       "      <th></th>\n",
       "      <th></th>\n",
       "      <th></th>\n",
       "      <th></th>\n",
       "    </tr>\n",
       "  </thead>\n",
       "  <tbody>\n",
       "    <tr>\n",
       "      <th>0</th>\n",
       "      <td>-0.758666</td>\n",
       "      <td>0.000363</td>\n",
       "      <td>-0.75822</td>\n",
       "      <td>-0.75953</td>\n",
       "      <td>0.998275</td>\n",
       "      <td>-0.758927</td>\n",
       "      <td>-0.758367</td>\n",
       "      <td>-0.758530</td>\n",
       "      <td>0.000015</td>\n",
       "      <td>0.75953</td>\n",
       "      <td>...</td>\n",
       "      <td>9.597909e+06</td>\n",
       "      <td>6.255962e+05</td>\n",
       "      <td>15.342019</td>\n",
       "      <td>1.369929e+06</td>\n",
       "      <td>2.846509e+06</td>\n",
       "      <td>1.927821e+06</td>\n",
       "      <td>1.198969e+06</td>\n",
       "      <td>9.597909e+06</td>\n",
       "      <td>6.255962e+05</td>\n",
       "      <td>8924.000999</td>\n",
       "    </tr>\n",
       "    <tr>\n",
       "      <th>1</th>\n",
       "      <td>-0.958606</td>\n",
       "      <td>0.000151</td>\n",
       "      <td>-0.95837</td>\n",
       "      <td>-0.95896</td>\n",
       "      <td>0.999385</td>\n",
       "      <td>-0.958720</td>\n",
       "      <td>-0.958480</td>\n",
       "      <td>-0.958595</td>\n",
       "      <td>0.000023</td>\n",
       "      <td>0.95896</td>\n",
       "      <td>...</td>\n",
       "      <td>1.957088e+06</td>\n",
       "      <td>1.377975e+05</td>\n",
       "      <td>14.202636</td>\n",
       "      <td>2.788236e+05</td>\n",
       "      <td>5.237909e+05</td>\n",
       "      <td>3.917496e+05</td>\n",
       "      <td>2.049951e+05</td>\n",
       "      <td>1.957088e+06</td>\n",
       "      <td>1.377975e+05</td>\n",
       "      <td>569.164381</td>\n",
       "    </tr>\n",
       "    <tr>\n",
       "      <th>2</th>\n",
       "      <td>-0.512057</td>\n",
       "      <td>0.001377</td>\n",
       "      <td>-0.50944</td>\n",
       "      <td>-0.51434</td>\n",
       "      <td>0.990473</td>\n",
       "      <td>-0.513110</td>\n",
       "      <td>-0.510947</td>\n",
       "      <td>-0.512035</td>\n",
       "      <td>0.000041</td>\n",
       "      <td>0.51434</td>\n",
       "      <td>...</td>\n",
       "      <td>2.866679e+07</td>\n",
       "      <td>1.674839e+06</td>\n",
       "      <td>17.116144</td>\n",
       "      <td>3.082358e+06</td>\n",
       "      <td>5.938406e+06</td>\n",
       "      <td>4.237554e+06</td>\n",
       "      <td>2.355426e+06</td>\n",
       "      <td>2.866679e+07</td>\n",
       "      <td>1.674839e+06</td>\n",
       "      <td>-9135.272306</td>\n",
       "    </tr>\n",
       "    <tr>\n",
       "      <th>3</th>\n",
       "      <td>-0.939169</td>\n",
       "      <td>0.000227</td>\n",
       "      <td>-0.93884</td>\n",
       "      <td>-0.93968</td>\n",
       "      <td>0.999106</td>\n",
       "      <td>-0.939340</td>\n",
       "      <td>-0.938960</td>\n",
       "      <td>-0.939170</td>\n",
       "      <td>0.000026</td>\n",
       "      <td>0.93968</td>\n",
       "      <td>...</td>\n",
       "      <td>3.121275e+06</td>\n",
       "      <td>8.652378e+04</td>\n",
       "      <td>36.074189</td>\n",
       "      <td>2.076787e+05</td>\n",
       "      <td>5.763665e+05</td>\n",
       "      <td>3.491645e+05</td>\n",
       "      <td>2.981020e+05</td>\n",
       "      <td>3.121275e+06</td>\n",
       "      <td>8.652378e+04</td>\n",
       "      <td>17412.401283</td>\n",
       "    </tr>\n",
       "    <tr>\n",
       "      <th>4</th>\n",
       "      <td>-0.891301</td>\n",
       "      <td>0.002955</td>\n",
       "      <td>-0.88673</td>\n",
       "      <td>-0.89689</td>\n",
       "      <td>0.988672</td>\n",
       "      <td>-0.893795</td>\n",
       "      <td>-0.888750</td>\n",
       "      <td>-0.890940</td>\n",
       "      <td>0.000080</td>\n",
       "      <td>0.89689</td>\n",
       "      <td>...</td>\n",
       "      <td>6.165090e+05</td>\n",
       "      <td>2.330043e+05</td>\n",
       "      <td>2.645912</td>\n",
       "      <td>3.011370e+05</td>\n",
       "      <td>4.294299e+05</td>\n",
       "      <td>3.461069e+05</td>\n",
       "      <td>2.281891e+04</td>\n",
       "      <td>6.165090e+05</td>\n",
       "      <td>2.330043e+05</td>\n",
       "      <td>-70.793166</td>\n",
       "    </tr>\n",
       "  </tbody>\n",
       "</table>\n",
       "<p>5 rows × 264 columns</p>\n",
       "</div>"
      ],
      "text/plain": [
       "           orientation_X_mean  orientation_X_std  orientation_X_max  \\\n",
       "series_id                                                             \n",
       "0                   -0.758666           0.000363           -0.75822   \n",
       "1                   -0.958606           0.000151           -0.95837   \n",
       "2                   -0.512057           0.001377           -0.50944   \n",
       "3                   -0.939169           0.000227           -0.93884   \n",
       "4                   -0.891301           0.002955           -0.88673   \n",
       "\n",
       "           orientation_X_min  orientation_X_max_to_min  orientation_X_quant25  \\\n",
       "series_id                                                                       \n",
       "0                   -0.75953                  0.998275              -0.758927   \n",
       "1                   -0.95896                  0.999385              -0.958720   \n",
       "2                   -0.51434                  0.990473              -0.513110   \n",
       "3                   -0.93968                  0.999106              -0.939340   \n",
       "4                   -0.89689                  0.988672              -0.893795   \n",
       "\n",
       "           orientation_X_quant75  orientation_X_quant50  \\\n",
       "series_id                                                 \n",
       "0                      -0.758367              -0.758530   \n",
       "1                      -0.958480              -0.958595   \n",
       "2                      -0.510947              -0.512035   \n",
       "3                      -0.938960              -0.939170   \n",
       "4                      -0.888750              -0.890940   \n",
       "\n",
       "           orientation_X_mean_abs_change  orientation_X_abs_max  \\\n",
       "series_id                                                         \n",
       "0                               0.000015                0.75953   \n",
       "1                               0.000023                0.95896   \n",
       "2                               0.000041                0.51434   \n",
       "3                               0.000026                0.93968   \n",
       "4                               0.000080                0.89689   \n",
       "\n",
       "                            ...                    angle_vs_vel_max  \\\n",
       "series_id                   ...                                       \n",
       "0                           ...                        9.597909e+06   \n",
       "1                           ...                        1.957088e+06   \n",
       "2                           ...                        2.866679e+07   \n",
       "3                           ...                        3.121275e+06   \n",
       "4                           ...                        6.165090e+05   \n",
       "\n",
       "           angle_vs_vel_min  angle_vs_vel_max_to_min  angle_vs_vel_quant25  \\\n",
       "series_id                                                                    \n",
       "0              6.255962e+05                15.342019          1.369929e+06   \n",
       "1              1.377975e+05                14.202636          2.788236e+05   \n",
       "2              1.674839e+06                17.116144          3.082358e+06   \n",
       "3              8.652378e+04                36.074189          2.076787e+05   \n",
       "4              2.330043e+05                 2.645912          3.011370e+05   \n",
       "\n",
       "           angle_vs_vel_quant75  angle_vs_vel_quant50  \\\n",
       "series_id                                               \n",
       "0                  2.846509e+06          1.927821e+06   \n",
       "1                  5.237909e+05          3.917496e+05   \n",
       "2                  5.938406e+06          4.237554e+06   \n",
       "3                  5.763665e+05          3.491645e+05   \n",
       "4                  4.294299e+05          3.461069e+05   \n",
       "\n",
       "           angle_vs_vel_mean_abs_change  angle_vs_vel_abs_max  \\\n",
       "series_id                                                       \n",
       "0                          1.198969e+06          9.597909e+06   \n",
       "1                          2.049951e+05          1.957088e+06   \n",
       "2                          2.355426e+06          2.866679e+07   \n",
       "3                          2.981020e+05          3.121275e+06   \n",
       "4                          2.281891e+04          6.165090e+05   \n",
       "\n",
       "           angle_vs_vel_abs_min  angle_vs_vel_mean_change_of_abs_change  \n",
       "series_id                                                                \n",
       "0                  6.255962e+05                             8924.000999  \n",
       "1                  1.377975e+05                              569.164381  \n",
       "2                  1.674839e+06                            -9135.272306  \n",
       "3                  8.652378e+04                            17412.401283  \n",
       "4                  2.330043e+05                              -70.793166  \n",
       "\n",
       "[5 rows x 264 columns]"
      ]
     },
     "execution_count": 10,
     "metadata": {},
     "output_type": "execute_result"
    }
   ],
   "source": [
    "train_grouped.head()"
   ]
  },
  {
   "cell_type": "code",
   "execution_count": 11,
   "metadata": {},
   "outputs": [],
   "source": [
    "train_grouped.fillna(0, inplace = True)\n",
    "train_grouped.replace(-np.inf, 0, inplace = True)\n",
    "train_grouped.replace(np.inf, 0, inplace = True)"
   ]
  },
  {
   "cell_type": "markdown",
   "metadata": {},
   "source": [
    "### Test data"
   ]
  },
  {
   "cell_type": "code",
   "execution_count": 12,
   "metadata": {},
   "outputs": [],
   "source": [
    "test['angular_velocity'] = test['angular_velocity_X'] + test['angular_velocity_Y'] + test['angular_velocity_Z']\n",
    "test['linear_acceleration'] = test['linear_acceleration_X'] + test['linear_acceleration_Y'] + test['linear_acceleration_Z']\n",
    "test['velocity_to_acceleration'] = test['angular_velocity'] / test['linear_acceleration']\n",
    "test['angular_velocity_diag'] = (test['angular_velocity_X']**2 + test['angular_velocity_Y']**2 + test['angular_velocity_Z']**2)**(1.0/2.0)\n",
    "test['linear_acceleration_diag'] = (test['linear_acceleration_X']**2 + test['linear_acceleration_Y']**2 + test['linear_acceleration_Z']**2)**(1.0/2.0)\n",
    "test['acc_vs_vel'] = test['linear_acceleration_diag'] / test['angular_velocity_diag'] \n"
   ]
  },
  {
   "cell_type": "code",
   "execution_count": 13,
   "metadata": {},
   "outputs": [],
   "source": [
    "x, y, z, w = test['orientation_X'].tolist(), test['orientation_Y'].tolist(), test['orientation_Z'].tolist(), test['orientation_W'].tolist()\n",
    "nx, ny, nz = [], [], []\n",
    "for i in range(len(x)):\n",
    "    xx, yy, zz = quaternion_to_euler(x[i], y[i], z[i], w[i])\n",
    "    nx.append(xx)\n",
    "    ny.append(yy)\n",
    "    nz.append(zz)\n",
    "    \n",
    "test['euler_x'] = nx\n",
    "test['euler_y'] = ny\n",
    "test['euler_z'] = nz"
   ]
  },
  {
   "cell_type": "code",
   "execution_count": 14,
   "metadata": {},
   "outputs": [],
   "source": [
    "test['total_angle'] = (test['euler_x'] ** 2 + test['euler_y'] ** 2 + test['euler_z'] ** 2) ** 5\n",
    "test['angle_vs_acc'] = test['total_angle'] / test['linear_acceleration_diag']\n",
    "test['angle_vs_vel'] = test['total_angle'] / test['angular_velocity_diag']"
   ]
  },
  {
   "cell_type": "code",
   "execution_count": 15,
   "metadata": {},
   "outputs": [],
   "source": [
    "test_grouped = pd.DataFrame()\n",
    "for col in test.columns[3:]:\n",
    "        test_grouped[col + '_mean'] = test.groupby(['series_id'])[col].mean()\n",
    "        test_grouped[col + '_std'] = test.groupby(['series_id'])[col].std()\n",
    "        test_grouped[col + '_max'] = test.groupby(['series_id'])[col].max()\n",
    "        test_grouped[col + '_min'] = test.groupby(['series_id'])[col].min()\n",
    "        test_grouped[col + '_max_to_min'] = test_grouped[col + '_max'] / test_grouped[col + '_min']\n",
    "        test_grouped[col + '_quant25'] = test.groupby(['series_id'])[col].quantile(0.25)\n",
    "        test_grouped[col + '_quant75'] = test.groupby(['series_id'])[col].quantile(0.75)\n",
    "        test_grouped[col + '_quant50'] = test.groupby(['series_id'])[col].quantile(0.50)\n",
    "        \n",
    "        test_grouped[col + '_mean_abs_change'] = test.groupby('series_id')[col].apply(lambda x: np.mean(np.abs(np.diff(x))))\n",
    "        test_grouped[col + '_abs_max'] = test.groupby('series_id')[col].apply(lambda x: np.max(np.abs(x)))\n",
    "        test_grouped[col + '_abs_min'] = test.groupby('series_id')[col].apply(lambda x: np.min(np.abs(x)))\n",
    "        test_grouped[col + '_mean_change_of_abs_change'] = test.groupby('series_id')[col].apply(lambda x: np.mean(np.diff(np.abs(np.diff(x)))))"
   ]
  },
  {
   "cell_type": "code",
   "execution_count": 16,
   "metadata": {},
   "outputs": [],
   "source": [
    "test_grouped.fillna(0, inplace = True)\n",
    "\n",
    "test_grouped.replace(-np.inf, 0, inplace = True)\n",
    "test_grouped.replace(np.inf, 0, inplace = True)"
   ]
  },
  {
   "cell_type": "markdown",
   "metadata": {},
   "source": [
    "## Labels"
   ]
  },
  {
   "cell_type": "code",
   "execution_count": 17,
   "metadata": {},
   "outputs": [],
   "source": [
    "target = pd.read_csv('y_train.csv')"
   ]
  },
  {
   "cell_type": "code",
   "execution_count": 18,
   "metadata": {},
   "outputs": [],
   "source": [
    "#Create target variable\n",
    "from sklearn.preprocessing import LabelEncoder\n",
    "le = LabelEncoder()\n",
    "target['surface'] = le.fit_transform(target['surface'])"
   ]
  },
  {
   "cell_type": "code",
   "execution_count": 19,
   "metadata": {},
   "outputs": [
    {
     "data": {
      "text/html": [
       "<div>\n",
       "<style scoped>\n",
       "    .dataframe tbody tr th:only-of-type {\n",
       "        vertical-align: middle;\n",
       "    }\n",
       "\n",
       "    .dataframe tbody tr th {\n",
       "        vertical-align: top;\n",
       "    }\n",
       "\n",
       "    .dataframe thead th {\n",
       "        text-align: right;\n",
       "    }\n",
       "</style>\n",
       "<table border=\"1\" class=\"dataframe\">\n",
       "  <thead>\n",
       "    <tr style=\"text-align: right;\">\n",
       "      <th></th>\n",
       "      <th>series_id</th>\n",
       "      <th>group_id</th>\n",
       "      <th>surface</th>\n",
       "    </tr>\n",
       "  </thead>\n",
       "  <tbody>\n",
       "    <tr>\n",
       "      <th>0</th>\n",
       "      <td>0</td>\n",
       "      <td>13</td>\n",
       "      <td>2</td>\n",
       "    </tr>\n",
       "    <tr>\n",
       "      <th>1</th>\n",
       "      <td>1</td>\n",
       "      <td>31</td>\n",
       "      <td>1</td>\n",
       "    </tr>\n",
       "    <tr>\n",
       "      <th>2</th>\n",
       "      <td>2</td>\n",
       "      <td>20</td>\n",
       "      <td>1</td>\n",
       "    </tr>\n",
       "    <tr>\n",
       "      <th>3</th>\n",
       "      <td>3</td>\n",
       "      <td>31</td>\n",
       "      <td>1</td>\n",
       "    </tr>\n",
       "    <tr>\n",
       "      <th>4</th>\n",
       "      <td>4</td>\n",
       "      <td>22</td>\n",
       "      <td>6</td>\n",
       "    </tr>\n",
       "  </tbody>\n",
       "</table>\n",
       "</div>"
      ],
      "text/plain": [
       "   series_id  group_id  surface\n",
       "0          0        13        2\n",
       "1          1        31        1\n",
       "2          2        20        1\n",
       "3          3        31        1\n",
       "4          4        22        6"
      ]
     },
     "execution_count": 19,
     "metadata": {},
     "output_type": "execute_result"
    }
   ],
   "source": [
    "target.head()"
   ]
  },
  {
   "cell_type": "markdown",
   "metadata": {},
   "source": [
    "## Model using LGBM"
   ]
  },
  {
   "cell_type": "code",
   "execution_count": 61,
   "metadata": {},
   "outputs": [],
   "source": [
    "params = {\n",
    "    'num_leaves': 18,\n",
    "    'min_data_in_leaf': 40,\n",
    "    'objective': 'multiclass',\n",
    "    'metric': 'multi_error',\n",
    "    'max_depth': 8,\n",
    "    'learning_rate': 0.01,\n",
    "    \"boosting\": \"gbdt\",\n",
    "    \"bagging_freq\": 5,\n",
    "    \"bagging_fraction\": 0.8126672064208567,\n",
    "    \"bagging_seed\": 11,\n",
    "    \"verbosity\": -1,\n",
    "    'reg_alpha': 0.1,\n",
    "    'reg_lambda': 0,\n",
    "    \"num_class\": 9,\n",
    "    'nthread': -1\n",
    "}"
   ]
  },
  {
   "cell_type": "code",
   "execution_count": 62,
   "metadata": {},
   "outputs": [],
   "source": [
    "train_set = lgb.Dataset(train_grouped, label=target)\n",
    "eval_hist = lgb.cv(params, train_set, nfold=10, num_boost_round=9999, early_stopping_rounds=100, seed=19)"
   ]
  },
  {
   "cell_type": "code",
   "execution_count": 68,
   "metadata": {},
   "outputs": [
    {
     "data": {
      "text/plain": [
       "1711"
      ]
     },
     "execution_count": 68,
     "metadata": {},
     "output_type": "execute_result"
    }
   ],
   "source": [
    "len(eval_hist['multi_error-mean'])"
   ]
  },
  {
   "cell_type": "code",
   "execution_count": 69,
   "metadata": {},
   "outputs": [],
   "source": [
    "num_rounds = len(eval_hist['multi_error-mean'])\n",
    "# retrain the model and make predictions for test set\n",
    "clf = lgb.train(params, train_set, num_boost_round=num_rounds)"
   ]
  },
  {
   "cell_type": "code",
   "execution_count": 75,
   "metadata": {},
   "outputs": [],
   "source": [
    "predictions = clf.predict(test_grouped, num_iteration=None)"
   ]
  },
  {
   "cell_type": "code",
   "execution_count": 76,
   "metadata": {},
   "outputs": [],
   "source": [
    "submission = pd.read_csv('sample_submission.csv')"
   ]
  },
  {
   "cell_type": "code",
   "execution_count": 77,
   "metadata": {},
   "outputs": [],
   "source": [
    "submission['surface'] = le.inverse_transform(predictions.argmax(axis=1))\n",
    "#submission['surface'] = predictions.argmax(axis=1)"
   ]
  },
  {
   "cell_type": "code",
   "execution_count": 78,
   "metadata": {},
   "outputs": [
    {
     "data": {
      "text/html": [
       "<div>\n",
       "<style scoped>\n",
       "    .dataframe tbody tr th:only-of-type {\n",
       "        vertical-align: middle;\n",
       "    }\n",
       "\n",
       "    .dataframe tbody tr th {\n",
       "        vertical-align: top;\n",
       "    }\n",
       "\n",
       "    .dataframe thead th {\n",
       "        text-align: right;\n",
       "    }\n",
       "</style>\n",
       "<table border=\"1\" class=\"dataframe\">\n",
       "  <thead>\n",
       "    <tr style=\"text-align: right;\">\n",
       "      <th></th>\n",
       "      <th>series_id</th>\n",
       "      <th>surface</th>\n",
       "    </tr>\n",
       "  </thead>\n",
       "  <tbody>\n",
       "    <tr>\n",
       "      <th>0</th>\n",
       "      <td>0</td>\n",
       "      <td>hard_tiles_large_space</td>\n",
       "    </tr>\n",
       "    <tr>\n",
       "      <th>1</th>\n",
       "      <td>1</td>\n",
       "      <td>concrete</td>\n",
       "    </tr>\n",
       "    <tr>\n",
       "      <th>2</th>\n",
       "      <td>2</td>\n",
       "      <td>tiled</td>\n",
       "    </tr>\n",
       "    <tr>\n",
       "      <th>3</th>\n",
       "      <td>3</td>\n",
       "      <td>carpet</td>\n",
       "    </tr>\n",
       "    <tr>\n",
       "      <th>4</th>\n",
       "      <td>4</td>\n",
       "      <td>soft_tiles</td>\n",
       "    </tr>\n",
       "  </tbody>\n",
       "</table>\n",
       "</div>"
      ],
      "text/plain": [
       "   series_id                 surface\n",
       "0          0  hard_tiles_large_space\n",
       "1          1                concrete\n",
       "2          2                   tiled\n",
       "3          3                  carpet\n",
       "4          4              soft_tiles"
      ]
     },
     "execution_count": 78,
     "metadata": {},
     "output_type": "execute_result"
    }
   ],
   "source": [
    "submission.head()"
   ]
  },
  {
   "cell_type": "code",
   "execution_count": 74,
   "metadata": {},
   "outputs": [],
   "source": [
    "submission.to_csv('submission lgbm features engg 3.csv')"
   ]
  },
  {
   "cell_type": "code",
   "execution_count": null,
   "metadata": {},
   "outputs": [],
   "source": []
  },
  {
   "cell_type": "markdown",
   "metadata": {},
   "source": [
    "### Importances"
   ]
  },
  {
   "cell_type": "code",
   "execution_count": 184,
   "metadata": {},
   "outputs": [],
   "source": [
    "importance = pd.DataFrame({'gain': clf.feature_importance(importance_type='gain'),\n",
    "                           'feature': clf.feature_name()})"
   ]
  },
  {
   "cell_type": "code",
   "execution_count": 185,
   "metadata": {},
   "outputs": [],
   "source": [
    "importance.sort_values(by='gain', ascending=False, inplace=True)"
   ]
  },
  {
   "cell_type": "code",
   "execution_count": 186,
   "metadata": {},
   "outputs": [],
   "source": [
    "importance['pc'] = (importance['gain'] * 100) / importance.gain.sum()"
   ]
  },
  {
   "cell_type": "code",
   "execution_count": 187,
   "metadata": {},
   "outputs": [
    {
     "data": {
      "text/plain": [
       "[<matplotlib.lines.Line2D at 0x22a4a02c240>]"
      ]
     },
     "execution_count": 187,
     "metadata": {},
     "output_type": "execute_result"
    },
    {
     "data": {
      "image/png": "[encoded data removed]",
      "text/plain": [
       "<Figure size 432x288 with 1 Axes>"
      ]
     },
     "metadata": {
      "needs_background": "light"
     },
     "output_type": "display_data"
    }
   ],
   "source": [
    "plt.plot(importance.feature, importance.pc)\n"
   ]
  },
  {
   "cell_type": "code",
   "execution_count": 188,
   "metadata": {},
   "outputs": [],
   "source": [
    "important_features = importance[importance['pc'] > 0.7]['feature']"
   ]
  },
  {
   "cell_type": "code",
   "execution_count": 138,
   "metadata": {},
   "outputs": [
    {
     "data": {
      "text/plain": [
       "array(['orientation_X_min', 'angular_velocity_Y_mean_abs_change',\n",
       "       'orientation_Z_abs_max', 'angular_velocity_std',\n",
       "       'linear_acceleration_X_mean_abs_change', 'orientation_W_abs_max',\n",
       "       'orientation_Z_max', 'linear_acceleration_mean_abs_change',\n",
       "       'orientation_X_max', 'angular_velocity_quant25',\n",
       "       'orientation_X_max_to_min', 'orientation_X_abs_max',\n",
       "       'angular_velocity_diag_mean',\n",
       "       'linear_acceleration_Y_mean_abs_change', 'orientation_Y_min',\n",
       "       'linear_acceleration_X_std', 'angular_velocity_Y_abs_max',\n",
       "       'angular_velocity_Z_min', 'orientation_W_max',\n",
       "       'velocity_to_acceleration_mean_abs_change',\n",
       "       'linear_acceleration_Y_std', 'orientation_Y_abs_max',\n",
       "       'orientation_Y_max_to_min', 'orientation_Z_min',\n",
       "       'linear_acceleration_Z_quant25', 'orientation_Z_max_to_min',\n",
       "       'linear_acceleration_Y_max', 'linear_acceleration_Y_min',\n",
       "       'linear_acceleration_Z_min', 'orientation_W_max_to_min',\n",
       "       'orientation_Y_max', 'orientation_W_min',\n",
       "       'angular_velocity_mean_abs_change',\n",
       "       'linear_acceleration_Z_mean_abs_change',\n",
       "       'linear_acceleration_Z_std', 'orientation_X_mean',\n",
       "       'orientation_Z_quant75', 'orientation_Z_mean',\n",
       "       'orientation_W_mean', 'orientation_W_quant25'], dtype=object)"
      ]
     },
     "execution_count": 138,
     "metadata": {},
     "output_type": "execute_result"
    }
   ],
   "source": [
    "important_features.values"
   ]
  },
  {
   "cell_type": "markdown",
   "metadata": {},
   "source": [
    "### Run on important feature - pc > 0.7"
   ]
  },
  {
   "cell_type": "code",
   "execution_count": 189,
   "metadata": {},
   "outputs": [],
   "source": [
    "train_set = lgb.Dataset(train_grouped[important_features.values], label=target)\n",
    "eval_hist = lgb.cv(params, train_set, nfold=10, num_boost_round=9999,\n",
    "                   early_stopping_rounds=100, seed=19)"
   ]
  },
  {
   "cell_type": "code",
   "execution_count": 190,
   "metadata": {},
   "outputs": [],
   "source": [
    "num_rounds = len(eval_hist['multi_error-mean'])\n",
    "# retrain the model and make predictions for test set\n",
    "clf = lgb.train(params, train_set, num_boost_round=num_rounds)\n"
   ]
  },
  {
   "cell_type": "code",
   "execution_count": 191,
   "metadata": {},
   "outputs": [],
   "source": [
    "predictions = clf.predict(test_grouped[important_features.values], num_iteration=None)\n"
   ]
  },
  {
   "cell_type": "code",
   "execution_count": 192,
   "metadata": {},
   "outputs": [],
   "source": [
    "submission = pd.read_csv('sample_submission.csv')\n",
    "#submission['surface'] = le.inverse_transform(predictions.argmax(axis=1))\n",
    "submission['surface'] = predictions.argmax(axis=1)\n",
    "submission.to_csv('submission consolidation feature engg grouped imp features 41.csv')"
   ]
  },
  {
   "cell_type": "markdown",
   "metadata": {},
   "source": [
    "## Model using XGBoost"
   ]
  },
  {
   "cell_type": "code",
   "execution_count": 193,
   "metadata": {},
   "outputs": [],
   "source": [
    "#Create target variable\n",
    "from sklearn.preprocessing import LabelEncoder\n",
    "le = LabelEncoder()\n",
    "target = le.fit_transform(y['surface'])"
   ]
  },
  {
   "cell_type": "code",
   "execution_count": 194,
   "metadata": {},
   "outputs": [
    {
     "data": {
      "text/plain": [
       "concrete                  779\n",
       "soft_pvc                  732\n",
       "wood                      607\n",
       "tiled                     514\n",
       "fine_concrete             363\n",
       "hard_tiles_large_space    308\n",
       "soft_tiles                297\n",
       "carpet                    189\n",
       "hard_tiles                 21\n",
       "Name: surface, dtype: int64"
      ]
     },
     "execution_count": 194,
     "metadata": {},
     "output_type": "execute_result"
    }
   ],
   "source": [
    "y.surface.value_counts()\n"
   ]
  },
  {
   "cell_type": "code",
   "execution_count": 196,
   "metadata": {},
   "outputs": [
    {
     "data": {
      "text/plain": [
       "XGBClassifier(base_score=0.5, booster='gbtree', colsample_bylevel=1,\n",
       "       colsample_bytree=1, gamma=0, learning_rate=0.1, max_delta_step=0,\n",
       "       max_depth=5, min_child_weight=1, missing=None, n_estimators=1000,\n",
       "       n_jobs=-1, nthread=None, num_class=9, objective='multi:softprob',\n",
       "       random_state=0, reg_alpha=0, reg_lambda=1, scale_pos_weight=1,\n",
       "       seed=None, silent=True, subsample=1)"
      ]
     },
     "execution_count": 196,
     "metadata": {},
     "output_type": "execute_result"
    }
   ],
   "source": [
    "xgbm = XGBClassifier(learning_rate =0.1, n_estimators=1000, max_depth=5, objective= 'multi:softprob',n_jobs=-1, num_class=9)            \n",
    "xgbm.fit(train_grouped, target)"
   ]
  },
  {
   "cell_type": "code",
   "execution_count": 156,
   "metadata": {},
   "outputs": [
    {
     "data": {
      "text/plain": [
       "((3810, 150), (3810,))"
      ]
     },
     "execution_count": 156,
     "metadata": {},
     "output_type": "execute_result"
    }
   ],
   "source": [
    "train_grouped.shape, target.shape"
   ]
  },
  {
   "cell_type": "code",
   "execution_count": 197,
   "metadata": {},
   "outputs": [],
   "source": [
    "#Prediction for xbg test data\n",
    "#xgb_pred_df = pd.DataFrame(xgbm.predict_proba(test))\n",
    "xgb_pred_df = xgbm.predict(test_grouped)"
   ]
  },
  {
   "cell_type": "code",
   "execution_count": 198,
   "metadata": {},
   "outputs": [
    {
     "data": {
      "text/plain": [
       "array([4, 0, 7, ..., 1, 1, 8])"
      ]
     },
     "execution_count": 198,
     "metadata": {},
     "output_type": "execute_result"
    }
   ],
   "source": [
    "xgb_pred_df"
   ]
  },
  {
   "cell_type": "code",
   "execution_count": 199,
   "metadata": {},
   "outputs": [],
   "source": [
    "submission = pd.read_csv('sample_submission.csv')\n",
    "submission['surface'] = xgb_pred_df"
   ]
  },
  {
   "cell_type": "code",
   "execution_count": 200,
   "metadata": {},
   "outputs": [],
   "source": [
    "submission.to_csv('submission consolidated xgb.csv')"
   ]
  },
  {
   "cell_type": "code",
   "execution_count": 18,
   "metadata": {},
   "outputs": [],
   "source": [
    "#Make submission file\n",
    "s = pd.read_csv('submission consolidated 1.csv')\n"
   ]
  },
  {
   "cell_type": "code",
   "execution_count": 25,
   "metadata": {},
   "outputs": [],
   "source": [
    "s = s.merge(labels_df, on='surface', how='left' )"
   ]
  },
  {
   "cell_type": "code",
   "execution_count": 27,
   "metadata": {},
   "outputs": [],
   "source": [
    "s.to_csv('submission consolidated 1 mapped.csv')"
   ]
  },
  {
   "cell_type": "code",
   "execution_count": 15,
   "metadata": {},
   "outputs": [],
   "source": [
    "labels_df = pd.DataFrame({'codes':[0,1,2,3,4,5,6,7,8], 'surface':le.inverse_transform([0,1,2,3,4,5,6,7,8])})"
   ]
  },
  {
   "cell_type": "code",
   "execution_count": 17,
   "metadata": {},
   "outputs": [],
   "source": [
    "labels_df.to_csv('labels.csv')"
   ]
  },
  {
   "cell_type": "code",
   "execution_count": 22,
   "metadata": {},
   "outputs": [],
   "source": [
    "labels_df.columns = ['surface', 'surface_name']"
   ]
  },
  {
   "cell_type": "code",
   "execution_count": 24,
   "metadata": {},
   "outputs": [
    {
     "data": {
      "text/html": [
       "<div>\n",
       "<style scoped>\n",
       "    .dataframe tbody tr th:only-of-type {\n",
       "        vertical-align: middle;\n",
       "    }\n",
       "\n",
       "    .dataframe tbody tr th {\n",
       "        vertical-align: top;\n",
       "    }\n",
       "\n",
       "    .dataframe thead th {\n",
       "        text-align: right;\n",
       "    }\n",
       "</style>\n",
       "<table border=\"1\" class=\"dataframe\">\n",
       "  <thead>\n",
       "    <tr style=\"text-align: right;\">\n",
       "      <th></th>\n",
       "      <th>surface</th>\n",
       "      <th>surface_name</th>\n",
       "    </tr>\n",
       "  </thead>\n",
       "  <tbody>\n",
       "    <tr>\n",
       "      <th>0</th>\n",
       "      <td>0</td>\n",
       "      <td>carpet</td>\n",
       "    </tr>\n",
       "    <tr>\n",
       "      <th>1</th>\n",
       "      <td>1</td>\n",
       "      <td>concrete</td>\n",
       "    </tr>\n",
       "    <tr>\n",
       "      <th>2</th>\n",
       "      <td>2</td>\n",
       "      <td>fine_concrete</td>\n",
       "    </tr>\n",
       "    <tr>\n",
       "      <th>3</th>\n",
       "      <td>3</td>\n",
       "      <td>hard_tiles</td>\n",
       "    </tr>\n",
       "    <tr>\n",
       "      <th>4</th>\n",
       "      <td>4</td>\n",
       "      <td>hard_tiles_large_space</td>\n",
       "    </tr>\n",
       "    <tr>\n",
       "      <th>5</th>\n",
       "      <td>5</td>\n",
       "      <td>soft_pvc</td>\n",
       "    </tr>\n",
       "    <tr>\n",
       "      <th>6</th>\n",
       "      <td>6</td>\n",
       "      <td>soft_tiles</td>\n",
       "    </tr>\n",
       "    <tr>\n",
       "      <th>7</th>\n",
       "      <td>7</td>\n",
       "      <td>tiled</td>\n",
       "    </tr>\n",
       "    <tr>\n",
       "      <th>8</th>\n",
       "      <td>8</td>\n",
       "      <td>wood</td>\n",
       "    </tr>\n",
       "  </tbody>\n",
       "</table>\n",
       "</div>"
      ],
      "text/plain": [
       "   surface            surface_name\n",
       "0        0                  carpet\n",
       "1        1                concrete\n",
       "2        2           fine_concrete\n",
       "3        3              hard_tiles\n",
       "4        4  hard_tiles_large_space\n",
       "5        5                soft_pvc\n",
       "6        6              soft_tiles\n",
       "7        7                   tiled\n",
       "8        8                    wood"
      ]
     },
     "execution_count": 24,
     "metadata": {},
     "output_type": "execute_result"
    }
   ],
   "source": [
    "labels_df"
   ]
  },
  {
   "cell_type": "markdown",
   "metadata": {},
   "source": [
    "## Using Stratified Folds and RF"
   ]
  },
  {
   "cell_type": "code",
   "execution_count": 135,
   "metadata": {},
   "outputs": [],
   "source": [
    "import xgboost as xgb\n",
    "from sklearn.model_selection import KFold, StratifiedKFold\n",
    "from sklearn.ensemble import RandomForestClassifier"
   ]
  },
  {
   "cell_type": "code",
   "execution_count": 157,
   "metadata": {},
   "outputs": [],
   "source": [
    "folds = StratifiedKFold(n_splits=16, shuffle=False, random_state=23)"
   ]
  },
  {
   "cell_type": "code",
   "execution_count": 161,
   "metadata": {},
   "outputs": [
    {
     "name": "stdout",
     "output_type": "stream",
     "text": [
      "Folds: 22 Avg Accuracy: 0.9194740265681007\n"
     ]
    }
   ],
   "source": [
    "#for j in [10,11,12,13,14,15,16,17,18,19,20,21,22]:\n",
    "folds = StratifiedKFold(n_splits=16, shuffle=True, random_state=23)\n",
    "oof_preds = np.zeros((train_grouped.shape[0]))\n",
    "preds = np.zeros((test_grouped.shape[0],9))\n",
    "score=0\n",
    "for i, (train_index, valid_index) in enumerate(folds.split(train_grouped, target['surface'])):\n",
    "    #print('Fold:',i)\n",
    "    clf =  RandomForestClassifier(n_estimators = 200, n_jobs = -1)\n",
    "    clf.fit(train_grouped.iloc[train_index], target['surface'][train_index])\n",
    "    oof_preds[valid_index] = clf.predict(train_grouped.iloc[valid_index])\n",
    "    preds += clf.predict_proba(test_grouped) / folds.n_splits\n",
    "    score += clf.score(train_grouped.iloc[valid_index], target['surface'][valid_index])\n",
    "\n",
    "'''   print('score ', clf.score(train_grouped.iloc[valid_index], target['surface'][valid_index]))\n",
    "    importances = clf.feature_importances_\n",
    "    indices = np.argsort(importances)\n",
    "    features = train_grouped.columns\n",
    "\n",
    "    hm = 30\n",
    "    plt.figure(figsize=(7, 10))\n",
    "    plt.title('Feature Importances')\n",
    "    plt.barh(range(len(indices[:hm])), importances[indices][:hm], color='b', align='center')\n",
    "    plt.yticks(range(len(indices[:hm])), [features[i] for i in indices])\n",
    "    plt.xlabel('Relative Importance')\n",
    "    plt.show() '''\n",
    "\n",
    "print('Folds:', j, 'Avg Accuracy:', score / folds.n_splits)"
   ]
  },
  {
   "cell_type": "code",
   "execution_count": 163,
   "metadata": {},
   "outputs": [],
   "source": [
    "submission = pd.read_csv('sample_submission.csv')"
   ]
  },
  {
   "cell_type": "code",
   "execution_count": 165,
   "metadata": {},
   "outputs": [],
   "source": [
    "submission['surface'] = le.inverse_transform(preds.argmax(axis=1))"
   ]
  },
  {
   "cell_type": "code",
   "execution_count": 167,
   "metadata": {},
   "outputs": [],
   "source": [
    "submission.to_csv('submission rf sfold 1.csv')"
   ]
  },
  {
   "cell_type": "markdown",
   "metadata": {},
   "source": [
    "## Stratified folds and xgb"
   ]
  },
  {
   "cell_type": "code",
   "execution_count": 18,
   "metadata": {},
   "outputs": [],
   "source": [
    "import xgboost as xgb\n",
    "from sklearn.model_selection import KFold, StratifiedKFold\n",
    "from sklearn.ensemble import RandomForestClassifier"
   ]
  },
  {
   "cell_type": "code",
   "execution_count": null,
   "metadata": {},
   "outputs": [],
   "source": [
    "#for j in [10,11,12,13,14,15,16,17,18,19,20,21,22]:\n",
    "folds = StratifiedKFold(n_splits=10, shuffle=True, random_state=23)\n",
    "oof_preds = np.zeros((train_grouped.shape[0]))\n",
    "preds = np.zeros((test_grouped.shape[0],9))\n",
    "score=0\n",
    "for i, (train_index, valid_index) in enumerate(folds.split(train_grouped, target['surface'])):\n",
    "    #print('Fold:',i)\n",
    "    train_set = xgb.Dataset()\n",
    "    \n",
    "    \n",
    "    \n",
    "    clf =  RandomForestClassifier(n_estimators = 200, n_jobs = -1)\n",
    "    clf.fit(train_grouped.iloc[train_index], target['surface'][train_index])\n",
    "    oof_preds[valid_index] = clf.predict(train_grouped.iloc[valid_index])\n",
    "    preds += clf.predict_proba(test_grouped) / folds.n_splits\n",
    "    score += clf.score(train_grouped.iloc[valid_index], target['surface'][valid_index])\n",
    "\n",
    "'''   print('score ', clf.score(train_grouped.iloc[valid_index], target['surface'][valid_index]))\n",
    "    importances = clf.feature_importances_\n",
    "    indices = np.argsort(importances)\n",
    "    features = train_grouped.columns\n",
    "\n",
    "    hm = 30\n",
    "    plt.figure(figsize=(7, 10))\n",
    "    plt.title('Feature Importances')\n",
    "    plt.barh(range(len(indices[:hm])), importances[indices][:hm], color='b', align='center')\n",
    "    plt.yticks(range(len(indices[:hm])), [features[i] for i in indices])\n",
    "    plt.xlabel('Relative Importance')\n",
    "    plt.show() '''\n",
    "\n",
    "print('Folds:', j, 'Avg Accuracy:', score / folds.n_splits)"
   ]
  },
  {
   "cell_type": "code",
   "execution_count": 21,
   "metadata": {},
   "outputs": [],
   "source": [
    "from sklearn.model_selection import train_test_split\n",
    "\n",
    "x_train, x_valid, y_train, y_valid = train_test_split(train_grouped, target['surface'], test_size=0.2, random_state=42)"
   ]
  },
  {
   "cell_type": "code",
   "execution_count": 22,
   "metadata": {},
   "outputs": [],
   "source": [
    "train = xgb.DMatrix(x_train, label=y_train)\n",
    "valid = xgb.DMatrix(x_valid, label=y_valid)"
   ]
  },
  {
   "cell_type": "code",
   "execution_count": 173,
   "metadata": {},
   "outputs": [],
   "source": [
    "param = {\n",
    "    'max_depth': 3,  # the maximum depth of each tree\n",
    "    'eta': 0.3,  # the training step for each iteration\n",
    "    'silent': 1,  # logging mode - quiet\n",
    "    'objective': 'multi:softprob',  # error evaluation for multiclass training\n",
    "    'num_class': 9}  # the number of classes that exist in this datset\n",
    "num_round = 100  # the number of training iterations"
   ]
  },
  {
   "cell_type": "code",
   "execution_count": 193,
   "metadata": {},
   "outputs": [
    {
     "ename": "ZeroDivisionError",
     "evalue": "integer division or modulo by zero",
     "output_type": "error",
     "traceback": [
      "\u001b[1;31m---------------------------------------------------------------------------\u001b[0m",
      "\u001b[1;31mZeroDivisionError\u001b[0m                         Traceback (most recent call last)",
      "\u001b[1;32m<ipython-input-193-c6cd422ce8d6>\u001b[0m in \u001b[0;36m<module>\u001b[1;34m\u001b[0m\n\u001b[1;32m----> 1\u001b[1;33m \u001b[0mxgb_model\u001b[0m \u001b[1;33m=\u001b[0m \u001b[0mxgb\u001b[0m\u001b[1;33m.\u001b[0m\u001b[0mtrain\u001b[0m\u001b[1;33m(\u001b[0m\u001b[0mparam\u001b[0m\u001b[1;33m,\u001b[0m \u001b[0mtrain\u001b[0m\u001b[1;33m,\u001b[0m \u001b[0mnum_round\u001b[0m\u001b[1;33m)\u001b[0m\u001b[1;33m\u001b[0m\u001b[1;33m\u001b[0m\u001b[0m\n\u001b[0m",
      "\u001b[1;32m~\\AppData\\Local\\Continuum\\anaconda3\\lib\\site-packages\\xgboost\\training.py\u001b[0m in \u001b[0;36mtrain\u001b[1;34m(params, dtrain, num_boost_round, evals, obj, feval, maximize, early_stopping_rounds, evals_result, verbose_eval, xgb_model, callbacks, learning_rates)\u001b[0m\n\u001b[0;32m    214\u001b[0m                            \u001b[0mevals\u001b[0m\u001b[1;33m=\u001b[0m\u001b[0mevals\u001b[0m\u001b[1;33m,\u001b[0m\u001b[1;33m\u001b[0m\u001b[1;33m\u001b[0m\u001b[0m\n\u001b[0;32m    215\u001b[0m                            \u001b[0mobj\u001b[0m\u001b[1;33m=\u001b[0m\u001b[0mobj\u001b[0m\u001b[1;33m,\u001b[0m \u001b[0mfeval\u001b[0m\u001b[1;33m=\u001b[0m\u001b[0mfeval\u001b[0m\u001b[1;33m,\u001b[0m\u001b[1;33m\u001b[0m\u001b[1;33m\u001b[0m\u001b[0m\n\u001b[1;32m--> 216\u001b[1;33m                            xgb_model=xgb_model, callbacks=callbacks)\n\u001b[0m\u001b[0;32m    217\u001b[0m \u001b[1;33m\u001b[0m\u001b[0m\n\u001b[0;32m    218\u001b[0m \u001b[1;33m\u001b[0m\u001b[0m\n",
      "\u001b[1;32m~\\AppData\\Local\\Continuum\\anaconda3\\lib\\site-packages\\xgboost\\training.py\u001b[0m in \u001b[0;36m_train_internal\u001b[1;34m(params, dtrain, num_boost_round, evals, obj, feval, xgb_model, callbacks)\u001b[0m\n\u001b[0;32m     46\u001b[0m         \u001b[0mnboost\u001b[0m \u001b[1;33m//=\u001b[0m \u001b[0mnum_parallel_tree\u001b[0m\u001b[1;33m\u001b[0m\u001b[1;33m\u001b[0m\u001b[0m\n\u001b[0;32m     47\u001b[0m     \u001b[1;32mif\u001b[0m \u001b[1;34m'num_class'\u001b[0m \u001b[1;32min\u001b[0m \u001b[0m_params\u001b[0m\u001b[1;33m:\u001b[0m\u001b[1;33m\u001b[0m\u001b[1;33m\u001b[0m\u001b[0m\n\u001b[1;32m---> 48\u001b[1;33m         \u001b[0mnboost\u001b[0m \u001b[1;33m//=\u001b[0m \u001b[0m_params\u001b[0m\u001b[1;33m[\u001b[0m\u001b[1;34m'num_class'\u001b[0m\u001b[1;33m]\u001b[0m\u001b[1;33m\u001b[0m\u001b[1;33m\u001b[0m\u001b[0m\n\u001b[0m\u001b[0;32m     49\u001b[0m \u001b[1;33m\u001b[0m\u001b[0m\n\u001b[0;32m     50\u001b[0m     \u001b[1;31m# Distributed code: Load the checkpoint from rabit.\u001b[0m\u001b[1;33m\u001b[0m\u001b[1;33m\u001b[0m\u001b[1;33m\u001b[0m\u001b[0m\n",
      "\u001b[1;31mZeroDivisionError\u001b[0m: integer division or modulo by zero"
     ]
    }
   ],
   "source": [
    "xgb_model = xgb.train(param, train, num_round)"
   ]
  },
  {
   "cell_type": "code",
   "execution_count": 176,
   "metadata": {},
   "outputs": [],
   "source": [
    "xgb_preds = xgb_model.predict(valid)"
   ]
  },
  {
   "cell_type": "code",
   "execution_count": 179,
   "metadata": {},
   "outputs": [],
   "source": [
    "xgb_pred_classes = xgb_preds.argmax(axis=1)"
   ]
  },
  {
   "cell_type": "code",
   "execution_count": 181,
   "metadata": {},
   "outputs": [
    {
     "data": {
      "text/plain": [
       "0.9094488188976378"
      ]
     },
     "execution_count": 181,
     "metadata": {},
     "output_type": "execute_result"
    }
   ],
   "source": [
    "from sklearn.metrics import accuracy_score\n",
    "accuracy_score(y_valid, xgb_pred_classes)"
   ]
  },
  {
   "cell_type": "markdown",
   "metadata": {},
   "source": [
    "## Parameter Tuning using Hyperopt"
   ]
  },
  {
   "cell_type": "code",
   "execution_count": 56,
   "metadata": {},
   "outputs": [],
   "source": [
    "from hyperopt import hp, fmin, tpe, STATUS_OK, Trials\n",
    "from sklearn.metrics import accuracy_score\n",
    "def objective(space):\n",
    "    xgb_model = xgb.train(space, train, num_boost_round=2, objective='multi:softprob', num_class=9)\n",
    "    xgb_preds = xgb_model.predict(valid)\n",
    "    xgb_pred_classes = xgb_preds.argmax(axis=1)\n",
    "    acc = accuracy_score(y_valid, xgb_pred_classes)\n",
    "\n",
    "    return{'loss':1-acc, 'status': STATUS_OK }"
   ]
  },
  {
   "cell_type": "code",
   "execution_count": 58,
   "metadata": {},
   "outputs": [],
   "source": [
    "space ={\n",
    "        'max_depth': hp.choice(\"max_depth\", np.arange(3,6,1)),\n",
    "        'eta': hp.uniform('eta', 0.2, 0.8),\n",
    "        'min_child_weight': hp.choice ('min_child_weight', np.arange(1, 10, 1)),\n",
    "        'subsample': hp.uniform ('subsample', 0.8, 1)\n",
    "#        'objective': hp.choice('objective', ['multi:softprob']),\n",
    "#        'num_class': hp.choice('num_class', np.arange(9,9,0))\n",
    "        }\n"
   ]
  },
  {
   "cell_type": "code",
   "execution_count": 59,
   "metadata": {},
   "outputs": [
    {
     "data": {
      "text/plain": [
       "{'eta': 0.4926039611015652,\n",
       " 'max_depth': 5,\n",
       " 'min_child_weight': 8,\n",
       " 'subsample': 0.9248935440661906}"
      ]
     },
     "execution_count": 59,
     "metadata": {},
     "output_type": "execute_result"
    }
   ],
   "source": [
    "from hyperopt.pyll.stochastic import sample\n",
    "sample(space)"
   ]
  },
  {
   "cell_type": "code",
   "execution_count": 60,
   "metadata": {},
   "outputs": [],
   "source": [
    "trials = Trials()"
   ]
  },
  {
   "cell_type": "code",
   "execution_count": 61,
   "metadata": {},
   "outputs": [
    {
     "name": "stdout",
     "output_type": "stream",
     "text": [
      "  0%|                                                                              | 0/2 [00:00<?, ?it/s, best loss: ?]\n"
     ]
    },
    {
     "ename": "TypeError",
     "evalue": "train() got an unexpected keyword argument 'objective'",
     "output_type": "error",
     "traceback": [
      "\u001b[1;31m---------------------------------------------------------------------------\u001b[0m",
      "\u001b[1;31mTypeError\u001b[0m                                 Traceback (most recent call last)",
      "\u001b[1;32m<ipython-input-61-f4c5df4cf949>\u001b[0m in \u001b[0;36m<module>\u001b[1;34m\u001b[0m\n\u001b[0;32m      3\u001b[0m             \u001b[0malgo\u001b[0m\u001b[1;33m=\u001b[0m\u001b[0mtpe\u001b[0m\u001b[1;33m.\u001b[0m\u001b[0msuggest\u001b[0m\u001b[1;33m,\u001b[0m\u001b[1;33m\u001b[0m\u001b[1;33m\u001b[0m\u001b[0m\n\u001b[0;32m      4\u001b[0m             \u001b[0mmax_evals\u001b[0m\u001b[1;33m=\u001b[0m\u001b[1;36m2\u001b[0m\u001b[1;33m,\u001b[0m\u001b[1;33m\u001b[0m\u001b[1;33m\u001b[0m\u001b[0m\n\u001b[1;32m----> 5\u001b[1;33m             trials=trials)\n\u001b[0m\u001b[0;32m      6\u001b[0m \u001b[1;33m\u001b[0m\u001b[0m\n\u001b[0;32m      7\u001b[0m \u001b[0mprint\u001b[0m\u001b[1;33m(\u001b[0m\u001b[0mbest\u001b[0m\u001b[1;33m)\u001b[0m\u001b[1;33m\u001b[0m\u001b[1;33m\u001b[0m\u001b[0m\n",
      "\u001b[1;32m~\\AppData\\Local\\Continuum\\anaconda3\\lib\\site-packages\\hyperopt\\fmin.py\u001b[0m in \u001b[0;36mfmin\u001b[1;34m(fn, space, algo, max_evals, trials, rstate, allow_trials_fmin, pass_expr_memo_ctrl, catch_eval_exceptions, verbose, return_argmin, points_to_evaluate, max_queue_len, show_progressbar)\u001b[0m\n\u001b[0;32m    386\u001b[0m             \u001b[0mcatch_eval_exceptions\u001b[0m\u001b[1;33m=\u001b[0m\u001b[0mcatch_eval_exceptions\u001b[0m\u001b[1;33m,\u001b[0m\u001b[1;33m\u001b[0m\u001b[1;33m\u001b[0m\u001b[0m\n\u001b[0;32m    387\u001b[0m             \u001b[0mreturn_argmin\u001b[0m\u001b[1;33m=\u001b[0m\u001b[0mreturn_argmin\u001b[0m\u001b[1;33m,\u001b[0m\u001b[1;33m\u001b[0m\u001b[1;33m\u001b[0m\u001b[0m\n\u001b[1;32m--> 388\u001b[1;33m             \u001b[0mshow_progressbar\u001b[0m\u001b[1;33m=\u001b[0m\u001b[0mshow_progressbar\u001b[0m\u001b[1;33m,\u001b[0m\u001b[1;33m\u001b[0m\u001b[1;33m\u001b[0m\u001b[0m\n\u001b[0m\u001b[0;32m    389\u001b[0m         )\n\u001b[0;32m    390\u001b[0m \u001b[1;33m\u001b[0m\u001b[0m\n",
      "\u001b[1;32m~\\AppData\\Local\\Continuum\\anaconda3\\lib\\site-packages\\hyperopt\\base.py\u001b[0m in \u001b[0;36mfmin\u001b[1;34m(self, fn, space, algo, max_evals, rstate, verbose, pass_expr_memo_ctrl, catch_eval_exceptions, return_argmin, show_progressbar)\u001b[0m\n\u001b[0;32m    637\u001b[0m             \u001b[0mcatch_eval_exceptions\u001b[0m\u001b[1;33m=\u001b[0m\u001b[0mcatch_eval_exceptions\u001b[0m\u001b[1;33m,\u001b[0m\u001b[1;33m\u001b[0m\u001b[1;33m\u001b[0m\u001b[0m\n\u001b[0;32m    638\u001b[0m             \u001b[0mreturn_argmin\u001b[0m\u001b[1;33m=\u001b[0m\u001b[0mreturn_argmin\u001b[0m\u001b[1;33m,\u001b[0m\u001b[1;33m\u001b[0m\u001b[1;33m\u001b[0m\u001b[0m\n\u001b[1;32m--> 639\u001b[1;33m             show_progressbar=show_progressbar)\n\u001b[0m\u001b[0;32m    640\u001b[0m \u001b[1;33m\u001b[0m\u001b[0m\n\u001b[0;32m    641\u001b[0m \u001b[1;33m\u001b[0m\u001b[0m\n",
      "\u001b[1;32m~\\AppData\\Local\\Continuum\\anaconda3\\lib\\site-packages\\hyperopt\\fmin.py\u001b[0m in \u001b[0;36mfmin\u001b[1;34m(fn, space, algo, max_evals, trials, rstate, allow_trials_fmin, pass_expr_memo_ctrl, catch_eval_exceptions, verbose, return_argmin, points_to_evaluate, max_queue_len, show_progressbar)\u001b[0m\n\u001b[0;32m    405\u001b[0m                     show_progressbar=show_progressbar)\n\u001b[0;32m    406\u001b[0m     \u001b[0mrval\u001b[0m\u001b[1;33m.\u001b[0m\u001b[0mcatch_eval_exceptions\u001b[0m \u001b[1;33m=\u001b[0m \u001b[0mcatch_eval_exceptions\u001b[0m\u001b[1;33m\u001b[0m\u001b[1;33m\u001b[0m\u001b[0m\n\u001b[1;32m--> 407\u001b[1;33m     \u001b[0mrval\u001b[0m\u001b[1;33m.\u001b[0m\u001b[0mexhaust\u001b[0m\u001b[1;33m(\u001b[0m\u001b[1;33m)\u001b[0m\u001b[1;33m\u001b[0m\u001b[1;33m\u001b[0m\u001b[0m\n\u001b[0m\u001b[0;32m    408\u001b[0m     \u001b[1;32mif\u001b[0m \u001b[0mreturn_argmin\u001b[0m\u001b[1;33m:\u001b[0m\u001b[1;33m\u001b[0m\u001b[1;33m\u001b[0m\u001b[0m\n\u001b[0;32m    409\u001b[0m         \u001b[1;32mreturn\u001b[0m \u001b[0mtrials\u001b[0m\u001b[1;33m.\u001b[0m\u001b[0margmin\u001b[0m\u001b[1;33m\u001b[0m\u001b[1;33m\u001b[0m\u001b[0m\n",
      "\u001b[1;32m~\\AppData\\Local\\Continuum\\anaconda3\\lib\\site-packages\\hyperopt\\fmin.py\u001b[0m in \u001b[0;36mexhaust\u001b[1;34m(self)\u001b[0m\n\u001b[0;32m    260\u001b[0m     \u001b[1;32mdef\u001b[0m \u001b[0mexhaust\u001b[0m\u001b[1;33m(\u001b[0m\u001b[0mself\u001b[0m\u001b[1;33m)\u001b[0m\u001b[1;33m:\u001b[0m\u001b[1;33m\u001b[0m\u001b[1;33m\u001b[0m\u001b[0m\n\u001b[0;32m    261\u001b[0m         \u001b[0mn_done\u001b[0m \u001b[1;33m=\u001b[0m \u001b[0mlen\u001b[0m\u001b[1;33m(\u001b[0m\u001b[0mself\u001b[0m\u001b[1;33m.\u001b[0m\u001b[0mtrials\u001b[0m\u001b[1;33m)\u001b[0m\u001b[1;33m\u001b[0m\u001b[1;33m\u001b[0m\u001b[0m\n\u001b[1;32m--> 262\u001b[1;33m         \u001b[0mself\u001b[0m\u001b[1;33m.\u001b[0m\u001b[0mrun\u001b[0m\u001b[1;33m(\u001b[0m\u001b[0mself\u001b[0m\u001b[1;33m.\u001b[0m\u001b[0mmax_evals\u001b[0m \u001b[1;33m-\u001b[0m \u001b[0mn_done\u001b[0m\u001b[1;33m,\u001b[0m \u001b[0mblock_until_done\u001b[0m\u001b[1;33m=\u001b[0m\u001b[0mself\u001b[0m\u001b[1;33m.\u001b[0m\u001b[0masynchronous\u001b[0m\u001b[1;33m)\u001b[0m\u001b[1;33m\u001b[0m\u001b[1;33m\u001b[0m\u001b[0m\n\u001b[0m\u001b[0;32m    263\u001b[0m         \u001b[0mself\u001b[0m\u001b[1;33m.\u001b[0m\u001b[0mtrials\u001b[0m\u001b[1;33m.\u001b[0m\u001b[0mrefresh\u001b[0m\u001b[1;33m(\u001b[0m\u001b[1;33m)\u001b[0m\u001b[1;33m\u001b[0m\u001b[1;33m\u001b[0m\u001b[0m\n\u001b[0;32m    264\u001b[0m         \u001b[1;32mreturn\u001b[0m \u001b[0mself\u001b[0m\u001b[1;33m\u001b[0m\u001b[1;33m\u001b[0m\u001b[0m\n",
      "\u001b[1;32m~\\AppData\\Local\\Continuum\\anaconda3\\lib\\site-packages\\hyperopt\\fmin.py\u001b[0m in \u001b[0;36mrun\u001b[1;34m(self, N, block_until_done)\u001b[0m\n\u001b[0;32m    225\u001b[0m                     \u001b[1;32melse\u001b[0m\u001b[1;33m:\u001b[0m\u001b[1;33m\u001b[0m\u001b[1;33m\u001b[0m\u001b[0m\n\u001b[0;32m    226\u001b[0m                         \u001b[1;31m# -- loop over trials and do the jobs directly\u001b[0m\u001b[1;33m\u001b[0m\u001b[1;33m\u001b[0m\u001b[1;33m\u001b[0m\u001b[0m\n\u001b[1;32m--> 227\u001b[1;33m                         \u001b[0mself\u001b[0m\u001b[1;33m.\u001b[0m\u001b[0mserial_evaluate\u001b[0m\u001b[1;33m(\u001b[0m\u001b[1;33m)\u001b[0m\u001b[1;33m\u001b[0m\u001b[1;33m\u001b[0m\u001b[0m\n\u001b[0m\u001b[0;32m    228\u001b[0m \u001b[1;33m\u001b[0m\u001b[0m\n\u001b[0;32m    229\u001b[0m                     \u001b[1;32mtry\u001b[0m\u001b[1;33m:\u001b[0m\u001b[1;33m\u001b[0m\u001b[1;33m\u001b[0m\u001b[0m\n",
      "\u001b[1;32m~\\AppData\\Local\\Continuum\\anaconda3\\lib\\site-packages\\hyperopt\\fmin.py\u001b[0m in \u001b[0;36mserial_evaluate\u001b[1;34m(self, N)\u001b[0m\n\u001b[0;32m    139\u001b[0m                 \u001b[0mctrl\u001b[0m \u001b[1;33m=\u001b[0m \u001b[0mbase\u001b[0m\u001b[1;33m.\u001b[0m\u001b[0mCtrl\u001b[0m\u001b[1;33m(\u001b[0m\u001b[0mself\u001b[0m\u001b[1;33m.\u001b[0m\u001b[0mtrials\u001b[0m\u001b[1;33m,\u001b[0m \u001b[0mcurrent_trial\u001b[0m\u001b[1;33m=\u001b[0m\u001b[0mtrial\u001b[0m\u001b[1;33m)\u001b[0m\u001b[1;33m\u001b[0m\u001b[1;33m\u001b[0m\u001b[0m\n\u001b[0;32m    140\u001b[0m                 \u001b[1;32mtry\u001b[0m\u001b[1;33m:\u001b[0m\u001b[1;33m\u001b[0m\u001b[1;33m\u001b[0m\u001b[0m\n\u001b[1;32m--> 141\u001b[1;33m                     \u001b[0mresult\u001b[0m \u001b[1;33m=\u001b[0m \u001b[0mself\u001b[0m\u001b[1;33m.\u001b[0m\u001b[0mdomain\u001b[0m\u001b[1;33m.\u001b[0m\u001b[0mevaluate\u001b[0m\u001b[1;33m(\u001b[0m\u001b[0mspec\u001b[0m\u001b[1;33m,\u001b[0m \u001b[0mctrl\u001b[0m\u001b[1;33m)\u001b[0m\u001b[1;33m\u001b[0m\u001b[1;33m\u001b[0m\u001b[0m\n\u001b[0m\u001b[0;32m    142\u001b[0m                 \u001b[1;32mexcept\u001b[0m \u001b[0mException\u001b[0m \u001b[1;32mas\u001b[0m \u001b[0me\u001b[0m\u001b[1;33m:\u001b[0m\u001b[1;33m\u001b[0m\u001b[1;33m\u001b[0m\u001b[0m\n\u001b[0;32m    143\u001b[0m                     \u001b[0mlogger\u001b[0m\u001b[1;33m.\u001b[0m\u001b[0minfo\u001b[0m\u001b[1;33m(\u001b[0m\u001b[1;34m'job exception: %s'\u001b[0m \u001b[1;33m%\u001b[0m \u001b[0mstr\u001b[0m\u001b[1;33m(\u001b[0m\u001b[0me\u001b[0m\u001b[1;33m)\u001b[0m\u001b[1;33m)\u001b[0m\u001b[1;33m\u001b[0m\u001b[1;33m\u001b[0m\u001b[0m\n",
      "\u001b[1;32m~\\AppData\\Local\\Continuum\\anaconda3\\lib\\site-packages\\hyperopt\\base.py\u001b[0m in \u001b[0;36mevaluate\u001b[1;34m(self, config, ctrl, attach_attachments)\u001b[0m\n\u001b[0;32m    842\u001b[0m                 \u001b[0mmemo\u001b[0m\u001b[1;33m=\u001b[0m\u001b[0mmemo\u001b[0m\u001b[1;33m,\u001b[0m\u001b[1;33m\u001b[0m\u001b[1;33m\u001b[0m\u001b[0m\n\u001b[0;32m    843\u001b[0m                 print_node_on_error=self.rec_eval_print_node_on_error)\n\u001b[1;32m--> 844\u001b[1;33m             \u001b[0mrval\u001b[0m \u001b[1;33m=\u001b[0m \u001b[0mself\u001b[0m\u001b[1;33m.\u001b[0m\u001b[0mfn\u001b[0m\u001b[1;33m(\u001b[0m\u001b[0mpyll_rval\u001b[0m\u001b[1;33m)\u001b[0m\u001b[1;33m\u001b[0m\u001b[1;33m\u001b[0m\u001b[0m\n\u001b[0m\u001b[0;32m    845\u001b[0m \u001b[1;33m\u001b[0m\u001b[0m\n\u001b[0;32m    846\u001b[0m         \u001b[1;32mif\u001b[0m \u001b[0misinstance\u001b[0m\u001b[1;33m(\u001b[0m\u001b[0mrval\u001b[0m\u001b[1;33m,\u001b[0m \u001b[1;33m(\u001b[0m\u001b[0mfloat\u001b[0m\u001b[1;33m,\u001b[0m \u001b[0mint\u001b[0m\u001b[1;33m,\u001b[0m \u001b[0mnp\u001b[0m\u001b[1;33m.\u001b[0m\u001b[0mnumber\u001b[0m\u001b[1;33m)\u001b[0m\u001b[1;33m)\u001b[0m\u001b[1;33m:\u001b[0m\u001b[1;33m\u001b[0m\u001b[1;33m\u001b[0m\u001b[0m\n",
      "\u001b[1;32m<ipython-input-56-b02c322dcc09>\u001b[0m in \u001b[0;36mobjective\u001b[1;34m(space)\u001b[0m\n\u001b[0;32m      2\u001b[0m \u001b[1;32mfrom\u001b[0m \u001b[0msklearn\u001b[0m\u001b[1;33m.\u001b[0m\u001b[0mmetrics\u001b[0m \u001b[1;32mimport\u001b[0m \u001b[0maccuracy_score\u001b[0m\u001b[1;33m\u001b[0m\u001b[1;33m\u001b[0m\u001b[0m\n\u001b[0;32m      3\u001b[0m \u001b[1;32mdef\u001b[0m \u001b[0mobjective\u001b[0m\u001b[1;33m(\u001b[0m\u001b[0mspace\u001b[0m\u001b[1;33m)\u001b[0m\u001b[1;33m:\u001b[0m\u001b[1;33m\u001b[0m\u001b[1;33m\u001b[0m\u001b[0m\n\u001b[1;32m----> 4\u001b[1;33m     \u001b[0mxgb_model\u001b[0m \u001b[1;33m=\u001b[0m \u001b[0mxgb\u001b[0m\u001b[1;33m.\u001b[0m\u001b[0mtrain\u001b[0m\u001b[1;33m(\u001b[0m\u001b[0mspace\u001b[0m\u001b[1;33m,\u001b[0m \u001b[0mtrain\u001b[0m\u001b[1;33m,\u001b[0m \u001b[0mnum_boost_round\u001b[0m\u001b[1;33m=\u001b[0m\u001b[1;36m2\u001b[0m\u001b[1;33m,\u001b[0m \u001b[0mobjective\u001b[0m\u001b[1;33m=\u001b[0m\u001b[1;34m'multi:softprob'\u001b[0m\u001b[1;33m,\u001b[0m \u001b[0mnum_class\u001b[0m\u001b[1;33m=\u001b[0m\u001b[1;36m9\u001b[0m\u001b[1;33m)\u001b[0m\u001b[1;33m\u001b[0m\u001b[1;33m\u001b[0m\u001b[0m\n\u001b[0m\u001b[0;32m      5\u001b[0m     \u001b[0mxgb_preds\u001b[0m \u001b[1;33m=\u001b[0m \u001b[0mxgb_model\u001b[0m\u001b[1;33m.\u001b[0m\u001b[0mpredict\u001b[0m\u001b[1;33m(\u001b[0m\u001b[0mvalid\u001b[0m\u001b[1;33m)\u001b[0m\u001b[1;33m\u001b[0m\u001b[1;33m\u001b[0m\u001b[0m\n\u001b[0;32m      6\u001b[0m     \u001b[0mxgb_pred_classes\u001b[0m \u001b[1;33m=\u001b[0m \u001b[0mxgb_preds\u001b[0m\u001b[1;33m.\u001b[0m\u001b[0margmax\u001b[0m\u001b[1;33m(\u001b[0m\u001b[0maxis\u001b[0m\u001b[1;33m=\u001b[0m\u001b[1;36m1\u001b[0m\u001b[1;33m)\u001b[0m\u001b[1;33m\u001b[0m\u001b[1;33m\u001b[0m\u001b[0m\n",
      "\u001b[1;31mTypeError\u001b[0m: train() got an unexpected keyword argument 'objective'"
     ]
    }
   ],
   "source": [
    "best = fmin(fn=objective,\n",
    "            space=space,\n",
    "            algo=tpe.suggest,\n",
    "            max_evals=2,\n",
    "            trials=trials)\n",
    "\n",
    "print(best)"
   ]
  },
  {
   "cell_type": "code",
   "execution_count": 207,
   "metadata": {},
   "outputs": [
    {
     "data": {
      "text/plain": [
       "{'eta': 0,\n",
       " 'max_depth': 3,\n",
       " 'min_child_weight': 7.0,\n",
       " 'num_class': 0,\n",
       " 'objective': 0,\n",
       " 'subsample': 0.9947606040229142}"
      ]
     },
     "execution_count": 207,
     "metadata": {},
     "output_type": "execute_result"
    }
   ],
   "source": [
    "best"
   ]
  },
  {
   "cell_type": "code",
   "execution_count": 203,
   "metadata": {},
   "outputs": [
    {
     "data": {
      "text/plain": [
       "{'eta': 0.8,\n",
       " 'max_depth': 4,\n",
       " 'min_child_weight': 5.0,\n",
       " 'num_class': 9,\n",
       " 'objective': 'multi:softprob',\n",
       " 'subsample': 0.8361634904995421}"
      ]
     },
     "execution_count": 203,
     "metadata": {},
     "output_type": "execute_result"
    }
   ],
   "source": [
    "\n",
    "sample(space)"
   ]
  },
  {
   "cell_type": "code",
   "execution_count": null,
   "metadata": {},
   "outputs": [],
   "source": []
  }
 ],
 "metadata": {
  "kernelspec": {
   "display_name": "Python 3",
   "language": "python",
   "name": "python3"
  },
  "language_info": {
   "codemirror_mode": {
    "name": "ipython",
    "version": 3
   },
   "file_extension": ".py",
   "mimetype": "text/x-python",
   "name": "python",
   "nbconvert_exporter": "python",
   "pygments_lexer": "ipython3",
   "version": "3.6.8"
  },
  "varInspector": {
   "cols": {
    "lenName": 16,
    "lenType": 16,
    "lenVar": 40
   },
   "kernels_config": {
    "python": {
     "delete_cmd_postfix": "",
     "delete_cmd_prefix": "del ",
     "library": "var_list.py",
     "varRefreshCmd": "print(var_dic_list())"
    },
    "r": {
     "delete_cmd_postfix": ") ",
     "delete_cmd_prefix": "rm(",
     "library": "var_list.r",
     "varRefreshCmd": "cat(var_dic_list()) "
    }
   },
   "oldHeight": 602.430888,
   "position": {
    "height": "40px",
    "left": "1072.22px",
    "right": "20px",
    "top": "-1.99999px",
    "width": "350px"
   },
   "types_to_exclude": [
    "module",
    "function",
    "builtin_function_or_method",
    "instance",
    "_Feature"
   ],
   "varInspector_section_display": "none",
   "window_display": true
  }
 },
 "nbformat": 4,
 "nbformat_minor": 2
}
